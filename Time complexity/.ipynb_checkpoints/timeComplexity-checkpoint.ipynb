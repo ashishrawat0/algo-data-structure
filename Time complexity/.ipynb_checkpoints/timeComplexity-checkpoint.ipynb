{
 "cells": [
  {
   "cell_type": "code",
   "execution_count": 2,
   "metadata": {},
   "outputs": [
    {
     "name": "stdout",
     "output_type": "stream",
     "text": [
      "When comparing diffrent algos we check how much time it takes and it depends on various things like system os language\n"
     ]
    }
   ],
   "source": [
    "print('When comparing diffrent algos we check how much time it takes and it depends on various things like system os language')"
   ]
  },
  {
   "cell_type": "code",
   "execution_count": 3,
   "metadata": {},
   "outputs": [
    {
     "name": "stdout",
     "output_type": "stream",
     "text": [
      "for that we use big O notation which just gives an common paramenter for finding the time complexity\n"
     ]
    }
   ],
   "source": [
    "print('for that we use big O notation which just gives an common paramenter for finding the time complexity')"
   ]
  },
  {
   "cell_type": "code",
   "execution_count": 21,
   "metadata": {},
   "outputs": [
    {
     "data": {
      "text/plain": [
       "1"
      ]
     },
     "execution_count": 21,
     "metadata": {},
     "output_type": "execute_result"
    },
    {
     "data": {
      "image/png": "[encoded data removed]",
      "text/plain": [
       "<Figure size 432x288 with 1 Axes>"
      ]
     },
     "metadata": {
      "needs_background": "light"
     },
     "output_type": "display_data"
    }
   ],
   "source": [
    "import matplotlib.pyplot as plt \n",
    "def complex1():\n",
    "    total=1#complexity liner\n",
    "    return 1#complexity liner just like the graph below\n",
    "def simple_1():\n",
    "    t=1\n",
    "    fig=plt.figure()\n",
    "    axes=fig.add_subplot(111)\n",
    "    x=[1,2,3,]\n",
    "    y=[2,2,2]\n",
    "    axes.plot(x,y)\n",
    "simple_1()\n",
    "complex1()"
   ]
  },
  {
   "cell_type": "code",
   "execution_count": 42,
   "metadata": {},
   "outputs": [
    {
     "name": "stdout",
     "output_type": "stream",
     "text": [
      "24\n",
      "[[0, 1, 2, 3], [0, 1, 2, 3], [0, 1, 2, 3], [0, 1, 2, 3]]\n",
      "The complexity of this function is O(N^2)\n"
     ]
    }
   ],
   "source": [
    "def complex_2():\n",
    "    cols,rows=(4,4)\n",
    "    arr=[]\n",
    "    total=0\n",
    "    for i in range(cols): \n",
    "        col = [] \n",
    "        for j in range(rows): \n",
    "            col.append(j) \n",
    "        arr.append(col)\n",
    "    for m in range (0,len(arr)):\n",
    "        for n in range(0,len(arr[m])):\n",
    "            total=total+arr[m][n]\n",
    "    print(total)\n",
    "    print(arr)\n",
    "    print('The complexity of this function is O(N^2)')\n",
    "complex_2()"
   ]
  },
  {
   "cell_type": "code",
   "execution_count": null,
   "metadata": {},
   "outputs": [],
   "source": []
  },
  {
   "cell_type": "code",
   "execution_count": null,
   "metadata": {},
   "outputs": [],
   "source": []
  }
 ],
 "metadata": {
  "kernelspec": {
   "display_name": "Python 3",
   "language": "python",
   "name": "python3"
  },
  "language_info": {
   "codemirror_mode": {
    "name": "ipython",
    "version": 3
   },
   "file_extension": ".py",
   "mimetype": "text/x-python",
   "name": "python",
   "nbconvert_exporter": "python",
   "pygments_lexer": "ipython3",
   "version": "3.5.2"
  }
 },
 "nbformat": 4,
 "nbformat_minor": 4
}
