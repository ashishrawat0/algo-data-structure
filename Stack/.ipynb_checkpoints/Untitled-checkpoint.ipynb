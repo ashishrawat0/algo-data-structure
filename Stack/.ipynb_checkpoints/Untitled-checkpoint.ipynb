{
 "cells": [
  {
   "cell_type": "code",
   "execution_count": 3,
   "metadata": {},
   "outputs": [
    {
     "data": {
      "text/plain": [
       "['a', 'b', 'c']"
      ]
     },
     "execution_count": 3,
     "metadata": {},
     "output_type": "execute_result"
    }
   ],
   "source": [
    "class stack:\n",
    "    def __init__(self):\n",
    "        self.items=[]\n",
    "    def pushData(self,item):\n",
    "        self.items.append(item)\n",
    "    def popData(self):\n",
    "        self.items.pop()\n",
    "    def isEmpty(self):\n",
    "        return self.items==[]\n",
    "    def printStack(self):\n",
    "        return self.items\n",
    "s=stack()\n",
    "s.pushData(\"a\")\n",
    "s.pushData(\"b\")\n",
    "s.pushData(\"c\")\n",
    "s.printStack()\n",
    "\n",
    "    "
   ]
  },
  {
   "cell_type": "raw",
   "metadata": {},
   "source": [
    "\n",
    "Reverse string using stack\n"
   ]
  },
  {
   "cell_type": "code",
   "execution_count": 23,
   "metadata": {},
   "outputs": [
    {
     "name": "stdout",
     "output_type": "stream",
     "text": [
      "OLLEH\n"
     ]
    }
   ],
   "source": [
    "class stack:\n",
    "    def __init__(self):\n",
    "        self.items=[]\n",
    "    def pushData(self,item):\n",
    "        self.items.append(item)\n",
    "    def popData(self):\n",
    "        return self.items.pop()\n",
    "    def isEmpty(self):\n",
    "        return self.items==[]\n",
    "    def printStack(self):\n",
    "        return self.items\n",
    "def reverse(s,string):\n",
    "    for i in range(len(string)):\n",
    "        s.pushData(string[i])\n",
    "    revStr = \"\"\n",
    "    while not s.isEmpty():\n",
    "        revStr+=s.popData()\n",
    "    return(revStr)\n",
    "        \n",
    "s=stack()\n",
    "string=\"HELLO\"\n",
    "print(reverse(s,string))\n",
    "# s.pushData(\"a\")\n",
    "# s.pushData(\"b\")\n",
    "# s.pushData(\"c\")\n",
    "#s.printStack()\n"
   ]
  },
  {
   "cell_type": "raw",
   "metadata": {},
   "source": [
    "\n",
    "Converting number into binary ->\n"
   ]
  },
  {
   "cell_type": "code",
   "execution_count": 6,
   "metadata": {},
   "outputs": [
    {
     "name": "stdout",
     "output_type": "stream",
     "text": [
      "11110010\n"
     ]
    }
   ],
   "source": [
    "class stack:\n",
    "    def __init__(self):\n",
    "        self.items=[]\n",
    "    def pushData(self,item):\n",
    "        self.items.append(item)\n",
    "    def popData(self):\n",
    "        return self.items.pop()\n",
    "    def isEmpty(self):\n",
    "        return self.items==[]\n",
    "    def printStack(self):\n",
    "        return self.items\n",
    "def convertBinary(num):\n",
    "    num=num\n",
    "    s=stack()\n",
    "    while num>0:\n",
    "        rem=str(num%2)\n",
    "        s.pushData(rem)\n",
    "        num=num//2\n",
    "    bit_num=\"\"\n",
    "    while not s.isEmpty():\n",
    "        bit_num=bit_num+s.popData()\n",
    "    return bit_num\n",
    "print(convertBinary(242))\n"
   ]
  },
  {
   "cell_type": "code",
   "execution_count": 10,
   "metadata": {},
   "outputs": [
    {
     "ename": "AttributeError",
     "evalue": "'stack' object has no attribute 'push'",
     "output_type": "error",
     "traceback": [
      "\u001b[0;31m---------------------------------------------------------------------------\u001b[0m",
      "\u001b[0;31mAttributeError\u001b[0m                            Traceback (most recent call last)",
      "\u001b[0;32m<ipython-input-10-836d0cd28da4>\u001b[0m in \u001b[0;36m<module>\u001b[0;34m\u001b[0m\n\u001b[1;32m     34\u001b[0m                     \u001b[0misBalanced\u001b[0m\u001b[0;34m=\u001b[0m\u001b[0;32mFalse\u001b[0m\u001b[0;34m\u001b[0m\u001b[0m\n\u001b[1;32m     35\u001b[0m         \u001b[0mindex\u001b[0m\u001b[0;34m+=\u001b[0m\u001b[0;36m1\u001b[0m\u001b[0;34m\u001b[0m\u001b[0m\n\u001b[0;32m---> 36\u001b[0;31m \u001b[0mprint\u001b[0m\u001b[0;34m(\u001b[0m\u001b[0mparent_balance\u001b[0m\u001b[0;34m(\u001b[0m\u001b[0;34m)\u001b[0m\u001b[0;34m)\u001b[0m\u001b[0;34m\u001b[0m\u001b[0m\n\u001b[0m\u001b[1;32m     37\u001b[0m \u001b[0;34m\u001b[0m\u001b[0m\n",
      "\u001b[0;32m<ipython-input-10-836d0cd28da4>\u001b[0m in \u001b[0;36mparent_balance\u001b[0;34m()\u001b[0m\n\u001b[1;32m     25\u001b[0m         \u001b[0mparen\u001b[0m \u001b[0;34m=\u001b[0m \u001b[0mstring\u001b[0m\u001b[0;34m[\u001b[0m\u001b[0mindex\u001b[0m\u001b[0;34m]\u001b[0m\u001b[0;34m\u001b[0m\u001b[0m\n\u001b[1;32m     26\u001b[0m         \u001b[0;32mif\u001b[0m \u001b[0mparen\u001b[0m \u001b[0;32min\u001b[0m \u001b[0;34m\"{[(\"\u001b[0m\u001b[0;34m:\u001b[0m\u001b[0;34m\u001b[0m\u001b[0m\n\u001b[0;32m---> 27\u001b[0;31m             \u001b[0ms\u001b[0m\u001b[0;34m.\u001b[0m\u001b[0mpush\u001b[0m\u001b[0;34m(\u001b[0m\u001b[0mparen\u001b[0m\u001b[0;34m)\u001b[0m\u001b[0;34m\u001b[0m\u001b[0m\n\u001b[0m\u001b[1;32m     28\u001b[0m         \u001b[0;32melse\u001b[0m\u001b[0;34m:\u001b[0m\u001b[0;34m\u001b[0m\u001b[0m\n\u001b[1;32m     29\u001b[0m             \u001b[0;32mif\u001b[0m \u001b[0ms\u001b[0m\u001b[0;34m.\u001b[0m\u001b[0misEmpty\u001b[0m\u001b[0;34m(\u001b[0m\u001b[0;34m)\u001b[0m\u001b[0;34m:\u001b[0m\u001b[0;34m\u001b[0m\u001b[0m\n",
      "\u001b[0;31mAttributeError\u001b[0m: 'stack' object has no attribute 'push'"
     ]
    }
   ],
   "source": [
    "class stack:\n",
    "    def __init__(self):\n",
    "        self.items=[]\n",
    "    def push(self,item):\n",
    "        self.items.append(item)\n",
    "    def pop(self):\n",
    "        return self.items.pop()\n",
    "    def isEmpty(self):\n",
    "        return self.items==[]\n",
    "    def printStack(self):\n",
    "        return self.items\n",
    "def notMatche(top,paren):\n",
    "    parenthis={\"{\":\"}\",\"(\":\")\",\"[\":\"]\",}\n",
    "    if paren not in parenthis.keys():\n",
    "        return True\n",
    "    if paren in parenthis.keys():\n",
    "        if parenthis[paren]!=top:\n",
    "            return True\n",
    "def parent_balance():\n",
    "    s=stack()\n",
    "    isBalanced=True\n",
    "    index=0\n",
    "    string=\"{(){}}\"\n",
    "    while index<len(string) and isBalanced:\n",
    "        paren = string[index]\n",
    "        if paren in \"{[(\":\n",
    "            s.push(paren)\n",
    "        else:\n",
    "            if s.isEmpty():\n",
    "                isBalanced=False\n",
    "            else:\n",
    "                top=s.pop()\n",
    "                if notMatched(top,paren):\n",
    "                    isBalanced=False\n",
    "        index+=1\n",
    "print(parent_balance())\n",
    "    "
   ]
  },
  {
   "cell_type": "code",
   "execution_count": null,
   "metadata": {},
   "outputs": [],
   "source": []
  }
 ],
 "metadata": {
  "kernelspec": {
   "display_name": "Python 3",
   "language": "python",
   "name": "python3"
  }
 },
 "nbformat": 4,
 "nbformat_minor": 4
}
