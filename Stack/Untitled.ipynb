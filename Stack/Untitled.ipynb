{
 "cells": [
  {
   "cell_type": "code",
   "execution_count": 3,
   "metadata": {},
   "outputs": [
    {
     "data": {
      "text/plain": [
       "['a', 'b', 'c']"
      ]
     },
     "execution_count": 3,
     "metadata": {},
     "output_type": "execute_result"
    }
   ],
   "source": [
    "class stack:\n",
    "    def __init__(self):\n",
    "        self.items=[]\n",
    "    def pushData(self,item):\n",
    "        self.items.append(item)\n",
    "    def popData(self):\n",
    "        self.items.pop()\n",
    "    def isEmpty(self):\n",
    "        return self.items==[]\n",
    "    def printStack(self):\n",
    "        return self.items\n",
    "s=stack()\n",
    "s.pushData(\"a\")\n",
    "s.pushData(\"b\")\n",
    "s.pushData(\"c\")\n",
    "s.printStack()\n",
    "\n",
    "    "
   ]
  },
  {
   "cell_type": "raw",
   "metadata": {},
   "source": [
    "\n",
    "Reverse string using stack\n"
   ]
  },
  {
   "cell_type": "code",
   "execution_count": 23,
   "metadata": {},
   "outputs": [
    {
     "name": "stdout",
     "output_type": "stream",
     "text": [
      "OLLEH\n"
     ]
    }
   ],
   "source": [
    "class stack:\n",
    "    def __init__(self):\n",
    "        self.items=[]\n",
    "    def pushData(self,item):\n",
    "        self.items.append(item)\n",
    "    def popData(self):\n",
    "        return self.items.pop()\n",
    "    def isEmpty(self):\n",
    "        return self.items==[]\n",
    "    def printStack(self):\n",
    "        return self.items\n",
    "def reverse(s,string):\n",
    "    for i in range(len(string)):\n",
    "        s.pushData(string[i])\n",
    "    revStr = \"\"\n",
    "    while not s.isEmpty():\n",
    "        revStr+=s.popData()\n",
    "    return(revStr)\n",
    "        \n",
    "s=stack()\n",
    "string=\"HELLO\"\n",
    "print(reverse(s,string))\n",
    "# s.pushData(\"a\")\n",
    "# s.pushData(\"b\")\n",
    "# s.pushData(\"c\")\n",
    "#s.printStack()\n"
   ]
  },
  {
   "cell_type": "raw",
   "metadata": {},
   "source": [
    "\n",
    "Converting number into binary ->\n"
   ]
  },
  {
   "cell_type": "code",
   "execution_count": 6,
   "metadata": {},
   "outputs": [
    {
     "name": "stdout",
     "output_type": "stream",
     "text": [
      "11110010\n"
     ]
    }
   ],
   "source": [
    "class stack:\n",
    "    def __init__(self):\n",
    "        self.items=[]\n",
    "    def pushData(self,item):\n",
    "        self.items.append(item)\n",
    "    def popData(self):\n",
    "        return self.items.pop()\n",
    "    def isEmpty(self):\n",
    "        return self.items==[]\n",
    "    def printStack(self):\n",
    "        return self.items\n",
    "def convertBinary(num):\n",
    "    num=num\n",
    "    s=stack()\n",
    "    while num>0:\n",
    "        rem=str(num%2)\n",
    "        s.pushData(rem)\n",
    "        num=num//2\n",
    "    bit_num=\"\"\n",
    "    while not s.isEmpty():\n",
    "        bit_num=bit_num+s.popData()\n",
    "    return bit_num\n",
    "print(convertBinary(242))\n"
   ]
  },
  {
   "cell_type": "code",
   "execution_count": 58,
   "metadata": {},
   "outputs": [
    {
     "name": "stdout",
     "output_type": "stream",
     "text": [
      "True\n"
     ]
    }
   ],
   "source": [
    "class stack:\n",
    "    def __init__(self):\n",
    "        self.items=[]\n",
    "    def push(self,item):\n",
    "        self.items.append(item)\n",
    "    def pop(self):\n",
    "        return self.items.pop()\n",
    "    def isEmpty(self):\n",
    "        return self.items==[]\n",
    "    def printStack(self):\n",
    "        return self.items\n",
    "def isMatched(top,paren):\n",
    "    parenthis={\"}\":\"{\",\")\":\"(\",\"]\":\"[\"}\n",
    "    if paren not in parenthis.keys():\n",
    "        return False\n",
    "    else:\n",
    "        if parenthis[paren]==top:\n",
    "            \n",
    "            return True\n",
    "        else:\n",
    "            return False\n",
    "def parent_balance(string):\n",
    "    s=stack()\n",
    "    isBalanced=True\n",
    "    index=0\n",
    "    while index<len(string) and isBalanced:\n",
    "        paren = string[index]\n",
    "        if paren in \"{[(\":\n",
    "            s.push(paren)\n",
    "        else:\n",
    "            if s.isEmpty():\n",
    "                isBalanced=False\n",
    "            else:\n",
    "                top=s.pop()\n",
    "                if not isMatched(top,paren):\n",
    "                    isBalanced=False\n",
    "        index=index+1\n",
    "    if s.isEmpty()and isBalanced:\n",
    "        return True\n",
    "    else:\n",
    "        return False\n",
    "string=\"({[]})\"\n",
    "print(parent_balance(string))\n",
    "    "
   ]
  },
  {
   "cell_type": "code",
   "execution_count": null,
   "metadata": {},
   "outputs": [],
   "source": []
  },
  {
   "cell_type": "code",
   "execution_count": null,
   "metadata": {},
   "outputs": [],
   "source": []
  },
  {
   "cell_type": "code",
   "execution_count": null,
   "metadata": {},
   "outputs": [],
   "source": []
  },
  {
   "cell_type": "code",
   "execution_count": null,
   "metadata": {},
   "outputs": [],
   "source": []
  }
 ],
 "metadata": {
  "kernelspec": {
   "display_name": "Python 3",
   "language": "python",
   "name": "python3"
  }
 },
 "nbformat": 4,
 "nbformat_minor": 4
}
