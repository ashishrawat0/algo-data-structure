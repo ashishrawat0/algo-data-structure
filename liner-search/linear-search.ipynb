{
 "cells": [
  {
   "cell_type": "code",
   "execution_count": 1,
   "metadata": {},
   "outputs": [
    {
     "name": "stdout",
     "output_type": "stream",
     "text": [
      "There are many ways or algos to search through the structure\n"
     ]
    }
   ],
   "source": [
    "print('There are many ways or algos to search through the structure')"
   ]
  },
  {
   "cell_type": "code",
   "execution_count": 2,
   "metadata": {},
   "outputs": [
    {
     "name": "stdout",
     "output_type": "stream",
     "text": [
      "One of the most basic method is liner search in which it checks every element of the structure\n"
     ]
    }
   ],
   "source": [
    "print('One of the most basic method is liner search in which it checks every element of the structure')"
   ]
  },
  {
   "cell_type": "code",
   "execution_count": 7,
   "metadata": {},
   "outputs": [
    {
     "name": "stdout",
     "output_type": "stream",
     "text": [
      "not Found\n",
      "not Found\n",
      "not Found\n",
      "not Found\n",
      "not Found\n",
      "Found\n",
      "not Found\n",
      "not Found\n"
     ]
    }
   ],
   "source": [
    "elements=[6,8,12,44,56,7,32,66]\n",
    "def searchElement(num):\n",
    "    for element in elements:\n",
    "        if num == element:\n",
    "            print('Found')\n",
    "        else:\n",
    "            print('not Found')\n",
    "searchElement(7)"
   ]
  },
  {
   "cell_type": "code",
   "execution_count": null,
   "metadata": {},
   "outputs": [],
   "source": []
  }
 ],
 "metadata": {
  "kernelspec": {
   "display_name": "Python 3",
   "language": "python",
   "name": "python3"
  },
  "language_info": {
   "codemirror_mode": {
    "name": "ipython",
    "version": 3
   },
   "file_extension": ".py",
   "mimetype": "text/x-python",
   "name": "python",
   "nbconvert_exporter": "python",
   "pygments_lexer": "ipython3",
   "version": "3.5.2"
  }
 },
 "nbformat": 4,
 "nbformat_minor": 4
}
