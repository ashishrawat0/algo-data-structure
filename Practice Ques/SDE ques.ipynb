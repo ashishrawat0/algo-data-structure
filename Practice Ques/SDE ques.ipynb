{
 "cells": [
  {
   "cell_type": "code",
   "execution_count": null,
   "metadata": {},
   "outputs": [],
   "source": []
  },
  {
   "cell_type": "code",
   "execution_count": 56,
   "metadata": {},
   "outputs": [
    {
     "name": "stdout",
     "output_type": "stream",
     "text": [
      "{'Banana': [{'Ripe': None}, {'Raw': None}, {'Fried': ['spicy', 'sweet', 'salty']}], 'Cat': [{'Large': ['Black', 'White']}, {'Small': ['Blue', 'Grey']}], 'Apple': [{'red': None}, {'blue': None}, {'spicy': None}]}\n"
     ]
    }
   ],
   "source": [
    "class items():\n",
    "    def __init__(self,listDict):\n",
    "        self.listDict=listDict\n",
    "    def moveItem(self,item,move):\n",
    "        newL=[]\n",
    "        new={}\n",
    "        listDict=self.listDict\n",
    "        for key,value in listDict.items():\n",
    "            for s in value:\n",
    "                k=list(s.keys())[0]\n",
    "                v=list(s.values())[0]\n",
    "                if item==k:\n",
    "                    newL.append(s)\n",
    "                if v!= None:\n",
    "                    if item in v:\n",
    "                        new[item]=None\n",
    "        if newL:\n",
    "            listDict[move].append(newL)\n",
    "        else:\n",
    "            listDict[move].append(new)\n",
    "        print(listDict)\n",
    "\n",
    "                    \n",
    "listDict={'Apple':[{\"red\":None},{\"blue\":None}],'Banana':[{'Ripe':None},{'Raw':None},{'Fried':['spicy','sweet','salty']}],'Cat':[{'Large':['Black','White']},{'Small':['Blue','Grey']}]}\n",
    "\n",
    "i=items(listDict)\n",
    "i.moveItem('spicy','Apple')"
   ]
  },
  {
   "cell_type": "raw",
   "metadata": {},
   "source": [
    "Sum of N numbers"
   ]
  },
  {
   "cell_type": "code",
   "execution_count": 8,
   "metadata": {},
   "outputs": [
    {
     "name": "stdout",
     "output_type": "stream",
     "text": [
      "788\n",
      "310866\n"
     ]
    }
   ],
   "source": [
    "number=int(input())\n",
    "def sumOfNumbers(number):\n",
    "    return (number)*(number+1)//2\n",
    "print(sumOfNumbers(number))"
   ]
  },
  {
   "cell_type": "raw",
   "metadata": {},
   "source": [
    "GCD"
   ]
  },
  {
   "cell_type": "code",
   "execution_count": 14,
   "metadata": {},
   "outputs": [
    {
     "name": "stdout",
     "output_type": "stream",
     "text": [
      "1\n"
     ]
    }
   ],
   "source": [
    "def gcd(a,b):\n",
    "    if(a==0):\n",
    "        return b\n",
    "    return gcd(b%a,a)\n",
    "print(gcd(1256,9))"
   ]
  },
  {
   "cell_type": "raw",
   "metadata": {},
   "source": [
    "Tower of Hanoi"
   ]
  }
 ],
 "metadata": {
  "kernelspec": {
   "display_name": "Python 3",
   "language": "python",
   "name": "python3"
  },
  "language_info": {
   "codemirror_mode": {
    "name": "ipython",
    "version": 3
   },
   "file_extension": ".py",
   "mimetype": "text/x-python",
   "name": "python",
   "nbconvert_exporter": "python",
   "pygments_lexer": "ipython3",
   "version": "3.5.2"
  }
 },
 "nbformat": 4,
 "nbformat_minor": 4
}
