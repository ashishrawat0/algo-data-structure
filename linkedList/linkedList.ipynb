{
 "cells": [
  {
   "cell_type": "raw",
   "metadata": {},
   "source": [
    "\n",
    "Creating a Linked List\n"
   ]
  },
  {
   "cell_type": "code",
   "execution_count": 17,
   "metadata": {},
   "outputs": [
    {
     "name": "stdout",
     "output_type": "stream",
     "text": [
      "A->B->c->"
     ]
    }
   ],
   "source": [
    "class node():\n",
    "    def __init__(self,data):\n",
    "        self.data=data\n",
    "        self.next=None\n",
    "        \n",
    "class linkedList():\n",
    "    def __init__(self):\n",
    "        self.head=None\n",
    "    def print_list(self):\n",
    "        currentNode=self.head\n",
    "        while currentNode:\n",
    "            print(currentNode.data,end=\"->\")\n",
    "            currentNode=currentNode.next\n",
    "    def append(self,data):\n",
    "        new_node=node(data)\n",
    "        if self.head==None:\n",
    "            self.head=new_node\n",
    "            return\n",
    "        else:\n",
    "            lastNode=self.head\n",
    "            while(lastNode.next):\n",
    "                lastNode=lastNode.next\n",
    "            lastNode.next=new_node\n",
    "list1=linkedList()\n",
    "list1.append(\"A\")\n",
    "list1.append(\"B\")\n",
    "list1.append(\"c\")\n",
    "list1.print_list()\n"
   ]
  },
  {
   "cell_type": "raw",
   "metadata": {},
   "source": [
    "\n",
    "Prepend in linked List\n"
   ]
  },
  {
   "cell_type": "code",
   "execution_count": 15,
   "metadata": {},
   "outputs": [
    {
     "name": "stdout",
     "output_type": "stream",
     "text": [
      "c\n",
      "A\n",
      "B\n",
      "c\n"
     ]
    }
   ],
   "source": [
    "class node():\n",
    "    def __init__(self,data):\n",
    "        self.data=data\n",
    "        self.next=None\n",
    "class linkedList():\n",
    "    def __init__(self):\n",
    "        self.head=None\n",
    "    def append(self,data):\n",
    "        newNode=node(data)\n",
    "        if self.head==None:\n",
    "            self.head=newNode\n",
    "            return\n",
    "        else:\n",
    "            last_node=self.head\n",
    "            while last_node.next:\n",
    "                last_node=last_node.next\n",
    "            last_node.next=newNode\n",
    "    def printList(self):\n",
    "        tempNode=self.head\n",
    "        while tempNode:\n",
    "            print(tempNode.data)\n",
    "            tempNode=tempNode.next\n",
    "    def prePend(self,data):\n",
    "        newNode=node(data)\n",
    "        newNode.next=self.head\n",
    "        self.head=newNode\n",
    "list1=linkedList()\n",
    "list1.append(\"A\")\n",
    "list1.append(\"B\")\n",
    "list1.append(\"c\")\n",
    "list1.prePend(\"c\")\n",
    "list1.printList()"
   ]
  },
  {
   "cell_type": "raw",
   "metadata": {},
   "source": [
    "\n",
    "Reverse a linked list\n"
   ]
  },
  {
   "cell_type": "code",
   "execution_count": 19,
   "metadata": {},
   "outputs": [
    {
     "ename": "SyntaxError",
     "evalue": "invalid syntax (<ipython-input-19-89d0ce516e8a>, line 46)",
     "output_type": "error",
     "traceback": [
      "\u001b[0;36m  File \u001b[0;32m\"<ipython-input-19-89d0ce516e8a>\"\u001b[0;36m, line \u001b[0;32m46\u001b[0m\n\u001b[0;31m    reverseRecursive(curr=self.head,prev=None):\u001b[0m\n\u001b[0m                                              ^\u001b[0m\n\u001b[0;31mSyntaxError\u001b[0m\u001b[0;31m:\u001b[0m invalid syntax\n"
     ]
    }
   ],
   "source": [
    "class node():\n",
    "    def __init__(self,data):\n",
    "        self.data=data\n",
    "        self.next=None\n",
    "class linkedList():\n",
    "    def __init__(self):\n",
    "        self.head=None\n",
    "    def append(self,data):\n",
    "        newNode=node(data)\n",
    "        if self.head==None:\n",
    "            self.head=newNode\n",
    "            return\n",
    "        else:\n",
    "            last_node=self.head\n",
    "            while last_node.next:\n",
    "                last_node=last_node.next\n",
    "            last_node.next=newNode\n",
    "    def printList(self):\n",
    "        tempNode=self.head\n",
    "        while tempNode:\n",
    "            print(tempNode.data)\n",
    "            tempNode=tempNode.next\n",
    "    def prePend(self,data):\n",
    "        newNode=node(data)\n",
    "        newNode.next=self.head\n",
    "        self.head=newNode\n",
    "    def  reverseList(self):\n",
    "        prev=None\n",
    "        cur=self.head\n",
    "        while cur:\n",
    "            nex=cur.next\n",
    "            cur.next=prev\n",
    "            prev=cur\n",
    "            cur=nxt\n",
    "        self.head=prev\n",
    "        \n",
    "    def recursive():\n",
    "        def reverseRecursive(curr,prev):\n",
    "            if not curr:\n",
    "                return prev\n",
    "            nxt=curr.next\n",
    "            curr.next=prev\n",
    "            prev=cur\n",
    "            cur=nxt\n",
    "            reverseRecursive(curr,prev)\n",
    "        reverseRecursive(curr=self.head,prev=None):\n",
    "        \n",
    "list1=linkedList()\n",
    "list1.append(\"A\")\n",
    "list1.append(\"B\")\n",
    "list1.append(\"c\")\n",
    "list1.prePend(\"c\")\n",
    "list1.printList()"
   ]
  },
  {
   "cell_type": "code",
   "execution_count": null,
   "metadata": {},
   "outputs": [],
   "source": []
  }
 ],
 "metadata": {
  "kernelspec": {
   "display_name": "Python 3",
   "language": "python",
   "name": "python3"
  },
  "language_info": {
   "codemirror_mode": {
    "name": "ipython",
    "version": 3
   },
   "file_extension": ".py",
   "mimetype": "text/x-python",
   "name": "python",
   "nbconvert_exporter": "python",
   "pygments_lexer": "ipython3",
   "version": "3.5.2"
  }
 },
 "nbformat": 4,
 "nbformat_minor": 4
}
