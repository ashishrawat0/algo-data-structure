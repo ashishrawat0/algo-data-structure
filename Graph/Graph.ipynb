{
 "cells": [
  {
   "cell_type": "markdown",
   "metadata": {},
   "source": [
    "# Graph in python\n",
    "\n",
    "There are various uses of graph in real life also"
   ]
  },
  {
   "cell_type": "code",
   "execution_count": 23,
   "metadata": {},
   "outputs": [
    {
     "name": "stdout",
     "output_type": "stream",
     "text": [
      "Nodes from 0\n",
      " -> 4 -> 1\n",
      "\n",
      "Nodes from 1\n",
      " -> 4 -> 3 -> 2 -> 0\n",
      "\n",
      "Nodes from 2\n",
      " -> 3 -> 1\n",
      "\n",
      "Nodes from 3\n",
      " -> 4 -> 2 -> 1\n",
      "\n",
      "Nodes from 4\n",
      " -> 3 -> 1 -> 0\n",
      "\n"
     ]
    }
   ],
   "source": [
    "class adjNode:\n",
    "    def __init__(self,data):\n",
    "        self.vertex=data\n",
    "        self.next=None\n",
    "        \n",
    "class Graph:\n",
    "    def __init__(self,vertices):\n",
    "        self.V=vertices\n",
    "        self.graph=[None]*self.V\n",
    "    def add_edge(self,src,dest):\n",
    "        node=adjNode(dest)\n",
    "        node.next=self.graph[src]\n",
    "        self.graph[src]=node\n",
    "        \n",
    "        node=adjNode(src)\n",
    "        node.next=self.graph[dest]\n",
    "        self.graph[dest]=node\n",
    "        \n",
    "    def printNode(self):\n",
    "        for i in range(self.V):\n",
    "            print(\"Nodes from {}\".format(i))\n",
    "            temp=self.graph[i]\n",
    "            while temp:\n",
    "                print(\" -> {}\".format(temp.vertex), end=\"\") \n",
    "                temp = temp.next\n",
    "            print(\"\\n\")\n",
    "        \n",
    "if __name__== \"__main__\":\n",
    "    V=5\n",
    "    graph=Graph(V)\n",
    "    graph.add_edge(0, 1) \n",
    "    graph.add_edge(0, 4) \n",
    "    graph.add_edge(1, 2) \n",
    "    graph.add_edge(1, 3) \n",
    "    graph.add_edge(1, 4) \n",
    "    graph.add_edge(2, 3) \n",
    "    graph.add_edge(3, 4)\n",
    "    graph.printNode()"
   ]
  },
  {
   "cell_type": "code",
   "execution_count": null,
   "metadata": {},
   "outputs": [],
   "source": []
  }
 ],
 "metadata": {
  "kernelspec": {
   "display_name": "Python 3",
   "language": "python",
   "name": "python3"
  },
  "language_info": {
   "codemirror_mode": {
    "name": "ipython",
    "version": 3
   },
   "file_extension": ".py",
   "mimetype": "text/x-python",
   "name": "python",
   "nbconvert_exporter": "python",
   "pygments_lexer": "ipython3",
   "version": "3.5.2"
  }
 },
 "nbformat": 4,
 "nbformat_minor": 4
}
