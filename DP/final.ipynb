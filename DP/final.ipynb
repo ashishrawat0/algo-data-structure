{
 "cells": [
  {
   "cell_type": "code",
   "execution_count": null,
   "metadata": {},
   "outputs": [],
   "source": [
    "print('This is dynamic programming save approach')"
   ]
  },
  {
   "cell_type": "code",
   "execution_count": null,
   "metadata": {},
   "outputs": [],
   "source": [
    "def fibonnaci(num,store):\n",
    "    if store[num] is not None:\n",
    "        return store[num]\n",
    "    if num==1 or num==2:\n",
    "        return 1\n",
    "    else:\n",
    "        result =fibonnaci(num-1,store)+fibonnaci(num-2,store)\n",
    "    store[num]=result\n",
    "    return result\n",
    "def size(num):\n",
    "    store=[None]*(num+1)\n",
    "    return fibonnaci(num,store)\n",
    "size(999)"
   ]
  },
  {
   "cell_type": "code",
   "execution_count": null,
   "metadata": {},
   "outputs": [],
   "source": [
    "print('This is bottom up approach')"
   ]
  },
  {
   "cell_type": "code",
   "execution_count": 25,
   "metadata": {},
   "outputs": [
    {
     "data": {
      "text/plain": [
       "354224848179261915075"
      ]
     },
     "execution_count": 25,
     "metadata": {},
     "output_type": "execute_result"
    }
   ],
   "source": [
    "def fibonnaci(num):\n",
    "    if num==1 or num==2:\n",
    "        return 1\n",
    "    store=[None]*(num+1)\n",
    "    store[1]=1\n",
    "    store[2]=1\n",
    "    for i in range(3,num+1):\n",
    "        store[i]=store[i-1]+store[i-2]\n",
    "    return store[num]\n",
    "fibonnaci(100)"
   ]
  },
  {
   "cell_type": "code",
   "execution_count": null,
   "metadata": {},
   "outputs": [],
   "source": []
  },
  {
   "cell_type": "code",
   "execution_count": null,
   "metadata": {},
   "outputs": [],
   "source": []
  }
 ],
 "metadata": {
  "kernelspec": {
   "display_name": "Python 3",
   "language": "python",
   "name": "python3"
  },
  "language_info": {
   "codemirror_mode": {
    "name": "ipython",
    "version": 3
   },
   "file_extension": ".py",
   "mimetype": "text/x-python",
   "name": "python",
   "nbconvert_exporter": "python",
   "pygments_lexer": "ipython3",
   "version": "3.5.2"
  }
 },
 "nbformat": 4,
 "nbformat_minor": 4
}
