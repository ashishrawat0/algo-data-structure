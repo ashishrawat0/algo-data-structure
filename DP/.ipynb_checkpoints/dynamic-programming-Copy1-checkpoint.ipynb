{
 "cells": [
  {
   "cell_type": "code",
   "execution_count": null,
   "metadata": {},
   "outputs": [],
   "source": [
    "def steal(num):\n",
    "    if num==1 or num==2:\n",
    "        return 1\n",
    "    else:\n",
    "        return (steal(num-1)+steal(num-2))\n",
    "steal(100)"
   ]
  },
  {
   "cell_type": "code",
   "execution_count": null,
   "metadata": {},
   "outputs": [],
   "source": [
    "def fibonnaci(num,store):\n",
    "    if store[num] is not None:\n",
    "        print('------')\n",
    "        return store[num]\n",
    "    if num==1 or num==2:\n",
    "        return 1\n",
    "    else:\n",
    "        result =fibonnaci(num-1,store)+fibonnaci(num-2,store)\n",
    "    store[num]=result\n",
    "    return result\n",
    "def size(num):\n",
    "    store=[None]*(num+1)\n",
    "    return fibonnaci(num,store)\n",
    "size(6)\n"
   ]
  },
  {
   "cell_type": "code",
   "execution_count": null,
   "metadata": {},
   "outputs": [],
   "source": [
    "print('This approach is known as storing technique')\n"
   ]
  },
  {
   "cell_type": "code",
   "execution_count": null,
   "metadata": {},
   "outputs": [],
   "source": [
    "def fibonnaci(num,store):\n",
    "    if store[num] is not None:\n",
    "        print('------')\n",
    "        return store[num]\n",
    "    if num==1 or num==2:\n",
    "        return 1\n",
    "    else:\n",
    "        result =fibonnaci(num-1,store)+fibonnaci(num-2,store)\n",
    "    store[num]=result\n",
    "    return result\n",
    "def size(num):\n",
    "    store=[None]*(num+1)\n",
    "    return fibonnaci(num,store)\n",
    "size(6)"
   ]
  },
  {
   "cell_type": "code",
   "execution_count": null,
   "metadata": {},
   "outputs": [],
   "source": []
  },
  {
   "cell_type": "code",
   "execution_count": null,
   "metadata": {},
   "outputs": [],
   "source": []
  },
  {
   "cell_type": "code",
   "execution_count": null,
   "metadata": {},
   "outputs": [],
   "source": []
  },
  {
   "cell_type": "code",
   "execution_count": null,
   "metadata": {},
   "outputs": [],
   "source": []
  }
 ],
 "metadata": {
  "kernelspec": {
   "display_name": "Python 3",
   "language": "python",
   "name": "python3"
  },
  "language_info": {
   "codemirror_mode": {
    "name": "ipython",
    "version": 3
   },
   "file_extension": ".py",
   "mimetype": "text/x-python",
   "name": "python",
   "nbconvert_exporter": "python",
   "pygments_lexer": "ipython3",
   "version": "3.5.2"
  }
 },
 "nbformat": 4,
 "nbformat_minor": 4
}
